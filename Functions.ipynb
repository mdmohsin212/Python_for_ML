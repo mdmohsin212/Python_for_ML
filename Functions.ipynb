{
 "cells": [
  {
   "cell_type": "markdown",
   "id": "67bcd14a",
   "metadata": {},
   "source": [
    "#### Even Odd"
   ]
  },
  {
   "cell_type": "code",
   "execution_count": 31,
   "id": "9eb2dc9a",
   "metadata": {},
   "outputs": [],
   "source": [
    "def even_odd(x):\n",
    "    return \"Yes\" if x % 2 == 0 else \"No\""
   ]
  },
  {
   "cell_type": "code",
   "execution_count": 32,
   "id": "b2459c66",
   "metadata": {},
   "outputs": [
    {
     "data": {
      "text/plain": [
       "'No'"
      ]
     },
     "execution_count": 32,
     "metadata": {},
     "output_type": "execute_result"
    }
   ],
   "source": [
    "even_odd(5)"
   ]
  },
  {
   "cell_type": "markdown",
   "id": "b286749e",
   "metadata": {},
   "source": [
    "### Factorial"
   ]
  },
  {
   "cell_type": "code",
   "execution_count": 33,
   "id": "4c3302fd",
   "metadata": {},
   "outputs": [],
   "source": [
    "# 4! = 4*3*2*1"
   ]
  },
  {
   "cell_type": "code",
   "execution_count": 34,
   "id": "36b798c8",
   "metadata": {},
   "outputs": [],
   "source": [
    "def fact_num(x):\n",
    "    fact = 1\n",
    "    \n",
    "    for i in range(1, x+1):\n",
    "        fact = fact * i\n",
    "    return fact"
   ]
  },
  {
   "cell_type": "code",
   "execution_count": 35,
   "id": "2873cc27",
   "metadata": {},
   "outputs": [
    {
     "ename": "SyntaxError",
     "evalue": "invalid syntax (3138972782.py, line 1)",
     "output_type": "error",
     "traceback": [
      "\u001b[1;36m  Cell \u001b[1;32mIn[35], line 1\u001b[1;36m\u001b[0m\n\u001b[1;33m    def fact_num(1):\u001b[0m\n\u001b[1;37m                 ^\u001b[0m\n\u001b[1;31mSyntaxError\u001b[0m\u001b[1;31m:\u001b[0m invalid syntax\n"
     ]
    }
   ],
   "source": [
    "def fact_num(1):\n",
    "    fact = 1\n",
    "    \n",
    "    for i in range(1, 2):\n",
    "        fact = 1 * 1\n",
    "    return fact ---> 1"
   ]
  },
  {
   "cell_type": "code",
   "execution_count": null,
   "id": "f7c1c41a",
   "metadata": {},
   "outputs": [],
   "source": [
    "def fact_num(2):\n",
    "    fact = 1\n",
    "    \n",
    "    for i in range(1, 3):\n",
    "        fact = 1 * 1\n",
    "        fact = 2 * 1\n",
    "    return fact --->2"
   ]
  },
  {
   "cell_type": "code",
   "execution_count": null,
   "id": "a904d6cd",
   "metadata": {},
   "outputs": [
    {
     "data": {
      "text/plain": [
       "120"
      ]
     },
     "execution_count": 10,
     "metadata": {},
     "output_type": "execute_result"
    }
   ],
   "source": [
    "fact_num(5)"
   ]
  },
  {
   "cell_type": "markdown",
   "id": "ce59d23d",
   "metadata": {},
   "source": [
    "### Sum of natural Number"
   ]
  },
  {
   "cell_type": "code",
   "execution_count": null,
   "id": "480f0022",
   "metadata": {},
   "outputs": [],
   "source": [
    "def sum_of_natural(n):\n",
    "    return int((n * (n + 1)) / 2)"
   ]
  },
  {
   "cell_type": "code",
   "execution_count": null,
   "id": "2dfafb52",
   "metadata": {},
   "outputs": [
    {
     "data": {
      "text/plain": [
       "15"
      ]
     },
     "execution_count": 19,
     "metadata": {},
     "output_type": "execute_result"
    }
   ],
   "source": [
    "sum_of_natural(5)"
   ]
  },
  {
   "cell_type": "code",
   "execution_count": null,
   "id": "b62876d3",
   "metadata": {},
   "outputs": [],
   "source": [
    "def func_1(name, age=20):\n",
    "    print(name, age)"
   ]
  },
  {
   "cell_type": "code",
   "execution_count": null,
   "id": "822a6c2e",
   "metadata": {},
   "outputs": [
    {
     "name": "stdout",
     "output_type": "stream",
     "text": [
      "Siam 25\n"
     ]
    }
   ],
   "source": [
    "func_1(\"Siam\", 25)"
   ]
  },
  {
   "cell_type": "code",
   "execution_count": null,
   "id": "e5c5e981",
   "metadata": {},
   "outputs": [
    {
     "name": "stdout",
     "output_type": "stream",
     "text": [
      "mohsin 20\n"
     ]
    }
   ],
   "source": [
    "func_1(\"mohsin\")"
   ]
  },
  {
   "cell_type": "markdown",
   "id": "55a04e99",
   "metadata": {},
   "source": [
    "### Lambda Functions"
   ]
  },
  {
   "cell_type": "code",
   "execution_count": null,
   "id": "317acc93",
   "metadata": {},
   "outputs": [],
   "source": [
    "#lambda argument : expressions\n",
    "\n",
    "x = lambda a : a + 10"
   ]
  },
  {
   "cell_type": "code",
   "execution_count": null,
   "id": "dda3dfec",
   "metadata": {},
   "outputs": [
    {
     "name": "stdout",
     "output_type": "stream",
     "text": [
      "15\n"
     ]
    }
   ],
   "source": [
    "print(x(5))"
   ]
  },
  {
   "cell_type": "code",
   "execution_count": null,
   "id": "cf36fce2",
   "metadata": {},
   "outputs": [],
   "source": [
    "# Check Even odd\n",
    "\n",
    "x = lambda x : \"Even\" if x % 2 == 0 else \"Odd\""
   ]
  },
  {
   "cell_type": "code",
   "execution_count": null,
   "id": "e9ca06e2",
   "metadata": {},
   "outputs": [
    {
     "name": "stdout",
     "output_type": "stream",
     "text": [
      "Odd\n"
     ]
    }
   ],
   "source": [
    "print(x(3))"
   ]
  },
  {
   "cell_type": "code",
   "execution_count": null,
   "id": "03c830c7",
   "metadata": {},
   "outputs": [],
   "source": [
    "sum = lambda x, y : x + y"
   ]
  },
  {
   "cell_type": "code",
   "execution_count": null,
   "id": "920599ba",
   "metadata": {},
   "outputs": [
    {
     "name": "stdout",
     "output_type": "stream",
     "text": [
      "20\n"
     ]
    }
   ],
   "source": [
    "print(sum(10,10))"
   ]
  },
  {
   "cell_type": "code",
   "execution_count": null,
   "id": "b3b88d3d",
   "metadata": {},
   "outputs": [],
   "source": [
    "mul = lambda x, y : x * y"
   ]
  },
  {
   "cell_type": "code",
   "execution_count": null,
   "id": "4d2485d2",
   "metadata": {},
   "outputs": [
    {
     "name": "stdout",
     "output_type": "stream",
     "text": [
      "4\n"
     ]
    }
   ],
   "source": [
    "print(mul(2,2))"
   ]
  }
 ],
 "metadata": {
  "kernelspec": {
   "display_name": "Python 3",
   "language": "python",
   "name": "python3"
  },
  "language_info": {
   "codemirror_mode": {
    "name": "ipython",
    "version": 3
   },
   "file_extension": ".py",
   "mimetype": "text/x-python",
   "name": "python",
   "nbconvert_exporter": "python",
   "pygments_lexer": "ipython3",
   "version": "3.12.6"
  }
 },
 "nbformat": 4,
 "nbformat_minor": 5
}
