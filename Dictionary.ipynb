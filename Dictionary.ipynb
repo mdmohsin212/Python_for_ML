{
 "cells": [
  {
   "cell_type": "code",
   "execution_count": 1,
   "id": "7edcc423",
   "metadata": {},
   "outputs": [],
   "source": [
    "dict = {\"name\" : \"siam\", \"age\" : 20}"
   ]
  },
  {
   "cell_type": "code",
   "execution_count": 2,
   "id": "bb02f3e3",
   "metadata": {},
   "outputs": [
    {
     "data": {
      "text/plain": [
       "dict"
      ]
     },
     "execution_count": 2,
     "metadata": {},
     "output_type": "execute_result"
    }
   ],
   "source": [
    "type(dict)"
   ]
  },
  {
   "cell_type": "code",
   "execution_count": 3,
   "id": "15e172ce",
   "metadata": {},
   "outputs": [
    {
     "data": {
      "text/plain": [
       "set"
      ]
     },
     "execution_count": 3,
     "metadata": {},
     "output_type": "execute_result"
    }
   ],
   "source": [
    "dict = {\"name\" , \"siam\", \"age\" , 20}\n",
    "type(dict)"
   ]
  },
  {
   "cell_type": "code",
   "execution_count": 4,
   "id": "e3f4ef73",
   "metadata": {},
   "outputs": [
    {
     "data": {
      "text/plain": [
       "'BD'"
      ]
     },
     "execution_count": 4,
     "metadata": {},
     "output_type": "execute_result"
    }
   ],
   "source": [
    "d1 = {\"Ban\" : \"BD\", \"USA\" : \"USD\", \"India\" : \"INR\"}\n",
    "d1['Ban']"
   ]
  },
  {
   "cell_type": "code",
   "execution_count": 5,
   "id": "72bc9803",
   "metadata": {},
   "outputs": [
    {
     "data": {
      "text/plain": [
       "3"
      ]
     },
     "execution_count": 5,
     "metadata": {},
     "output_type": "execute_result"
    }
   ],
   "source": [
    "len(d1)"
   ]
  },
  {
   "cell_type": "code",
   "execution_count": 6,
   "id": "06269c5d",
   "metadata": {},
   "outputs": [
    {
     "data": {
      "text/plain": [
       "{'Ban': 'BD', 'USA': 'USD', 'India': 'New'}"
      ]
     },
     "execution_count": 6,
     "metadata": {},
     "output_type": "execute_result"
    }
   ],
   "source": [
    "# Replacing value\n",
    "\n",
    "d1['India'] = 'New'\n",
    "d1"
   ]
  },
  {
   "cell_type": "code",
   "execution_count": 8,
   "id": "8f9296f1",
   "metadata": {},
   "outputs": [
    {
     "data": {
      "text/plain": [
       "{'Ban': 'BD', 'USA': 'USD', 'India': 'New', 'JAPAN': 'YEN'}"
      ]
     },
     "execution_count": 8,
     "metadata": {},
     "output_type": "execute_result"
    }
   ],
   "source": [
    "# Insert new value\n",
    "\n",
    "d1['JAPAN'] = \"YEN\"\n",
    "d1"
   ]
  },
  {
   "cell_type": "code",
   "execution_count": 9,
   "id": "2dab3804",
   "metadata": {},
   "outputs": [
    {
     "data": {
      "text/plain": [
       "{'Ban': 'BD', 'USA': 'USD', 'JAPAN': 'YEN'}"
      ]
     },
     "execution_count": 9,
     "metadata": {},
     "output_type": "execute_result"
    }
   ],
   "source": [
    "# Deleting a key value pair\n",
    "\n",
    "del d1['India']\n",
    "d1"
   ]
  },
  {
   "cell_type": "code",
   "execution_count": null,
   "id": "4bdcae19",
   "metadata": {},
   "outputs": [
    {
     "data": {
      "text/plain": [
       "['Ban', 'JAPAN', 'USA']"
      ]
     },
     "execution_count": 10,
     "metadata": {},
     "output_type": "execute_result"
    }
   ],
   "source": [
    "#Sort dict\n",
    "\n",
    "sorted(d1)"
   ]
  },
  {
   "cell_type": "code",
   "execution_count": 11,
   "id": "fc2ddc77",
   "metadata": {},
   "outputs": [
    {
     "data": {
      "text/plain": [
       "dict_values(['BD', 'USD', 'YEN'])"
      ]
     },
     "execution_count": 11,
     "metadata": {},
     "output_type": "execute_result"
    }
   ],
   "source": [
    "# Value() Method\n",
    "\n",
    "d1.values()"
   ]
  },
  {
   "cell_type": "code",
   "execution_count": 12,
   "id": "ee0ba728",
   "metadata": {},
   "outputs": [
    {
     "data": {
      "text/plain": [
       "dict_keys(['Ban', 'USA', 'JAPAN'])"
      ]
     },
     "execution_count": 12,
     "metadata": {},
     "output_type": "execute_result"
    }
   ],
   "source": [
    "# keys() Method\n",
    "\n",
    "d1.keys()"
   ]
  },
  {
   "cell_type": "code",
   "execution_count": 14,
   "id": "9246b993",
   "metadata": {},
   "outputs": [
    {
     "data": {
      "text/plain": [
       "'BD'"
      ]
     },
     "execution_count": 14,
     "metadata": {},
     "output_type": "execute_result"
    }
   ],
   "source": [
    "# get() Method\n",
    "\n",
    "d1.get('Ban')"
   ]
  },
  {
   "cell_type": "code",
   "execution_count": 15,
   "id": "ac314d5c",
   "metadata": {},
   "outputs": [
    {
     "data": {
      "text/plain": [
       "{'Ban': 'BD', 'USA': 'USD', 'JAPAN': 'YEN', 'India': 'IN'}"
      ]
     },
     "execution_count": 15,
     "metadata": {},
     "output_type": "execute_result"
    }
   ],
   "source": [
    "# Update() Method\n",
    "\n",
    "d1.update({\"India\" : \"IN\"})\n",
    "d1"
   ]
  }
 ],
 "metadata": {
  "kernelspec": {
   "display_name": "Python 3",
   "language": "python",
   "name": "python3"
  },
  "language_info": {
   "codemirror_mode": {
    "name": "ipython",
    "version": 3
   },
   "file_extension": ".py",
   "mimetype": "text/x-python",
   "name": "python",
   "nbconvert_exporter": "python",
   "pygments_lexer": "ipython3",
   "version": "3.12.6"
  }
 },
 "nbformat": 4,
 "nbformat_minor": 5
}
