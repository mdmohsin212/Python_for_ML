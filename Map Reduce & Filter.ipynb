{
 "cells": [
  {
   "cell_type": "markdown",
   "id": "7cfe5add",
   "metadata": {},
   "source": [
    "### Area of a circle"
   ]
  },
  {
   "cell_type": "code",
   "execution_count": 32,
   "id": "d81ef6fb",
   "metadata": {},
   "outputs": [
    {
     "data": {
      "text/plain": [
       "[3.141592653589793,\n",
       " 12.566370614359172,\n",
       " 28.274333882308138,\n",
       " 50.26548245743669,\n",
       " 78.53981633974483]"
      ]
     },
     "execution_count": 32,
     "metadata": {},
     "output_type": "execute_result"
    }
   ],
   "source": [
    "import math\n",
    "\n",
    "def area_func(r):\n",
    "    return math.pi * r * r\n",
    "\n",
    "redii = [1,2,3, 4, 5]\n",
    "area = []\n",
    "\n",
    "for r in redii:\n",
    "    a = area_func(r)\n",
    "    area.append(a)\n",
    "area"
   ]
  },
  {
   "cell_type": "markdown",
   "id": "15a36a20",
   "metadata": {},
   "source": [
    "#### map(f, iterable)"
   ]
  },
  {
   "cell_type": "code",
   "execution_count": 33,
   "id": "04b09a15",
   "metadata": {},
   "outputs": [
    {
     "data": {
      "text/plain": [
       "<map at 0x2767d38dde0>"
      ]
     },
     "execution_count": 33,
     "metadata": {},
     "output_type": "execute_result"
    }
   ],
   "source": [
    "map(area, redii)"
   ]
  },
  {
   "cell_type": "code",
   "execution_count": 34,
   "id": "42a816df",
   "metadata": {},
   "outputs": [
    {
     "data": {
      "text/plain": [
       "[3.141592653589793,\n",
       " 12.566370614359172,\n",
       " 28.274333882308138,\n",
       " 50.26548245743669,\n",
       " 78.53981633974483]"
      ]
     },
     "execution_count": 34,
     "metadata": {},
     "output_type": "execute_result"
    }
   ],
   "source": [
    "list(map(area_func, redii))"
   ]
  },
  {
   "cell_type": "markdown",
   "id": "6513c0a8",
   "metadata": {},
   "source": [
    "### Convert C to F"
   ]
  },
  {
   "cell_type": "code",
   "execution_count": 35,
   "id": "6e06f1d1",
   "metadata": {},
   "outputs": [],
   "source": [
    "temps = [(\"Dhaka\", 35), (\"Uk\", 25), (\"Riyad\", 39), (\"FK\", 5), (\"AUS\", 19)]"
   ]
  },
  {
   "cell_type": "code",
   "execution_count": 36,
   "id": "9866c23e",
   "metadata": {},
   "outputs": [
    {
     "data": {
      "text/plain": [
       "5"
      ]
     },
     "execution_count": 36,
     "metadata": {},
     "output_type": "execute_result"
    }
   ],
   "source": [
    "len(temps)"
   ]
  },
  {
   "cell_type": "code",
   "execution_count": 37,
   "id": "33f23e6e",
   "metadata": {},
   "outputs": [],
   "source": [
    "cel_to_f = lambda data : (data[0], (9/5) * data[1] + 32)"
   ]
  },
  {
   "cell_type": "code",
   "execution_count": 38,
   "id": "2fde352e",
   "metadata": {},
   "outputs": [
    {
     "data": {
      "text/plain": [
       "[('Dhaka', 95.0), ('Uk', 77.0), ('Riyad', 102.2), ('FK', 41.0), ('AUS', 66.2)]"
      ]
     },
     "execution_count": 38,
     "metadata": {},
     "output_type": "execute_result"
    }
   ],
   "source": [
    "list(map(cel_to_f, temps))"
   ]
  },
  {
   "cell_type": "markdown",
   "id": "0996e26e",
   "metadata": {},
   "source": [
    "#### Filter Function\n",
    "\n",
    "### filter(f, data)"
   ]
  },
  {
   "cell_type": "code",
   "execution_count": 39,
   "id": "bff812f7",
   "metadata": {},
   "outputs": [],
   "source": [
    "import statistics\n",
    "\n",
    "data = [1,2,3,4,5,9,12,4,2,9]"
   ]
  },
  {
   "cell_type": "code",
   "execution_count": 40,
   "id": "4074ff8e",
   "metadata": {},
   "outputs": [
    {
     "data": {
      "text/plain": [
       "5.1"
      ]
     },
     "execution_count": 40,
     "metadata": {},
     "output_type": "execute_result"
    }
   ],
   "source": [
    "avg = statistics.mean(data)\n",
    "avg"
   ]
  },
  {
   "cell_type": "code",
   "execution_count": 41,
   "id": "d5015e88",
   "metadata": {},
   "outputs": [
    {
     "data": {
      "text/plain": [
       "<filter at 0x2767d38c040>"
      ]
     },
     "execution_count": 41,
     "metadata": {},
     "output_type": "execute_result"
    }
   ],
   "source": [
    "filter(lambda x : x > avg, data)"
   ]
  },
  {
   "cell_type": "code",
   "execution_count": 42,
   "id": "d793cb9b",
   "metadata": {},
   "outputs": [
    {
     "data": {
      "text/plain": [
       "[9, 12, 9]"
      ]
     },
     "execution_count": 42,
     "metadata": {},
     "output_type": "execute_result"
    }
   ],
   "source": [
    "list(filter(lambda x : x > avg, data))"
   ]
  },
  {
   "cell_type": "code",
   "execution_count": 43,
   "id": "90c93b1b",
   "metadata": {},
   "outputs": [
    {
     "data": {
      "text/plain": [
       "[12.566370614359172, 28.274333882308138, 50.26548245743669, 78.53981633974483]"
      ]
     },
     "execution_count": 43,
     "metadata": {},
     "output_type": "execute_result"
    }
   ],
   "source": [
    "list(filter(lambda x : x > 10, area))"
   ]
  },
  {
   "cell_type": "markdown",
   "id": "49a3a62f",
   "metadata": {},
   "source": [
    "#### Reduce Fuction\n",
    "\n",
    "### reduce(f, data)"
   ]
  },
  {
   "cell_type": "code",
   "execution_count": 44,
   "id": "e5af1521",
   "metadata": {},
   "outputs": [],
   "source": [
    "from functools import reduce"
   ]
  },
  {
   "cell_type": "code",
   "execution_count": 45,
   "id": "9fe86aae",
   "metadata": {},
   "outputs": [],
   "source": [
    "data = [1,2,3,4,5]"
   ]
  },
  {
   "cell_type": "code",
   "execution_count": 46,
   "id": "776c1949",
   "metadata": {},
   "outputs": [],
   "source": [
    "mul = lambda x, y : x*y"
   ]
  },
  {
   "cell_type": "code",
   "execution_count": 47,
   "id": "1309cdde",
   "metadata": {},
   "outputs": [
    {
     "data": {
      "text/plain": [
       "120"
      ]
     },
     "execution_count": 47,
     "metadata": {},
     "output_type": "execute_result"
    }
   ],
   "source": [
    "reduce(mul, data)"
   ]
  }
 ],
 "metadata": {
  "kernelspec": {
   "display_name": "Python 3",
   "language": "python",
   "name": "python3"
  },
  "language_info": {
   "codemirror_mode": {
    "name": "ipython",
    "version": 3
   },
   "file_extension": ".py",
   "mimetype": "text/x-python",
   "name": "python",
   "nbconvert_exporter": "python",
   "pygments_lexer": "ipython3",
   "version": "3.12.6"
  }
 },
 "nbformat": 4,
 "nbformat_minor": 5
}
