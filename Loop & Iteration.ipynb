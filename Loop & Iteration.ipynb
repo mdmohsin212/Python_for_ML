{
 "cells": [
  {
   "cell_type": "code",
   "execution_count": 31,
   "id": "0a3bd7cd",
   "metadata": {},
   "outputs": [
    {
     "name": "stdout",
     "output_type": "stream",
     "text": [
      "90 is an even Number\n"
     ]
    }
   ],
   "source": [
    "x = 90\n",
    "\n",
    "if x % 2 == 0:\n",
    "    print(x, \"is an even Number\")\n",
    "else:\n",
    "    print(x, \"is an odd Number\")"
   ]
  },
  {
   "cell_type": "code",
   "execution_count": 32,
   "id": "3b6cbecf",
   "metadata": {},
   "outputs": [
    {
     "name": "stdout",
     "output_type": "stream",
     "text": [
      "45 is an odd Number\n"
     ]
    }
   ],
   "source": [
    "x = int(input())\n",
    "\n",
    "if x % 2 == 0:\n",
    "    \n",
    "    print(x, \"is an even Number\")\n",
    "else:\n",
    "    print(x, \"is an odd Number\")"
   ]
  },
  {
   "cell_type": "code",
   "execution_count": 33,
   "id": "abd98fbd",
   "metadata": {},
   "outputs": [
    {
     "name": "stdout",
     "output_type": "stream",
     "text": [
      "Not Allowed\n"
     ]
    }
   ],
   "source": [
    "x = int(input('Age'))\n",
    "\n",
    "if x > 18 and x < 50:\n",
    "    print(\"Allowed\")\n",
    "else:\n",
    "    print(\"Not Allowed\")"
   ]
  },
  {
   "cell_type": "markdown",
   "id": "fe301ce4",
   "metadata": {},
   "source": [
    "### programe to provide discount"
   ]
  },
  {
   "cell_type": "code",
   "execution_count": 34,
   "id": "f117d79a",
   "metadata": {},
   "outputs": [
    {
     "name": "stdout",
     "output_type": "stream",
     "text": [
      "Opps\n"
     ]
    }
   ],
   "source": [
    "shopping_amt = int(input())\n",
    "\n",
    "if x >= 5000:\n",
    "    print(\"You won voucther 1000\")\n",
    "elif x >= 2500:\n",
    "    print(\"You won voucther 500\")\n",
    "else:\n",
    "    print(\"Opps\")"
   ]
  },
  {
   "cell_type": "markdown",
   "id": "daf3ee69",
   "metadata": {},
   "source": [
    "### Iterations"
   ]
  },
  {
   "cell_type": "code",
   "execution_count": 35,
   "id": "7ec1f87f",
   "metadata": {},
   "outputs": [
    {
     "name": "stdout",
     "output_type": "stream",
     "text": [
      "1\n",
      "23\n",
      "4\n",
      "5\n",
      "6\n"
     ]
    }
   ],
   "source": [
    "# Over a list of int\n",
    "\n",
    "list1 = [1,23,4,5,6]\n",
    "\n",
    "for i in list1:\n",
    "    print(i)"
   ]
  },
  {
   "cell_type": "code",
   "execution_count": 36,
   "id": "ed52c1fe",
   "metadata": {},
   "outputs": [
    {
     "name": "stdout",
     "output_type": "stream",
     "text": [
      "s\n",
      "i\n",
      "a\n",
      "m\n"
     ]
    }
   ],
   "source": [
    "# Over a list of string\n",
    "\n",
    "str1 = \"siam\"\n",
    "\n",
    "for i in str1:\n",
    "    print(i)"
   ]
  },
  {
   "cell_type": "code",
   "execution_count": 37,
   "id": "ea85bacb",
   "metadata": {},
   "outputs": [
    {
     "name": "stdout",
     "output_type": "stream",
     "text": [
      "(1, ['siam', 25])\n",
      "(2, ['mh', 25])\n",
      "(3, ['rr', 25])\n",
      "(4, ['wd', 25])\n",
      "(5, ['yy', 25])\n"
     ]
    }
   ],
   "source": [
    "# Over a list of Dictionary\n",
    "\n",
    "stu = {1 : [\"siam\", 25], 2 : [\"mh\", 25], 3 : [\"rr\", 25], 4 : [\"wd\", 25], 5 : [\"yy\", 25]}\n",
    "\n",
    "for i in stu.items():\n",
    "    print(i)"
   ]
  },
  {
   "cell_type": "code",
   "execution_count": 38,
   "id": "214cef6d",
   "metadata": {},
   "outputs": [
    {
     "name": "stdout",
     "output_type": "stream",
     "text": [
      "['siam', 25]\n",
      "['mh', 25]\n",
      "['rr', 25]\n",
      "['wd', 25]\n",
      "['yy', 25]\n"
     ]
    }
   ],
   "source": [
    "# Over a list of Dictionary\n",
    "\n",
    "stu = {1 : [\"siam\", 25], 2 : [\"mh\", 25], 3 : [\"rr\", 25], 4 : [\"wd\", 25], 5 : [\"yy\", 25]}\n",
    "\n",
    "for i, j in stu.items():\n",
    "    print(j)"
   ]
  },
  {
   "cell_type": "code",
   "execution_count": 39,
   "id": "7b7b2b5f",
   "metadata": {},
   "outputs": [
    {
     "name": "stdout",
     "output_type": "stream",
     "text": [
      "['siam', 25]\n",
      "['mh', 25]\n",
      "['rr', 25]\n",
      "['wd', 25]\n",
      "['yy', 25]\n"
     ]
    }
   ],
   "source": [
    "stu = {1 : [\"siam\", 25], 2 : [\"mh\", 25], 3 : [\"rr\", 25], 4 : [\"wd\", 25], 5 : [\"yy\", 25]}\n",
    "\n",
    "for i in stu.values():\n",
    "    print(i)"
   ]
  },
  {
   "cell_type": "code",
   "execution_count": 40,
   "id": "eeb3f415",
   "metadata": {},
   "outputs": [
    {
     "name": "stdout",
     "output_type": "stream",
     "text": [
      "1\n",
      "2\n",
      "3\n",
      "4\n"
     ]
    }
   ],
   "source": [
    "# Over a range of values\n",
    "\n",
    "for i in range(1,5):\n",
    "    print(i)"
   ]
  },
  {
   "cell_type": "markdown",
   "id": "acfda262",
   "metadata": {},
   "source": [
    "## Comprehensions"
   ]
  },
  {
   "cell_type": "code",
   "execution_count": 41,
   "id": "18575a25",
   "metadata": {},
   "outputs": [
    {
     "name": "stdout",
     "output_type": "stream",
     "text": [
      "['Automobile', 'honda', 'Benz', 'maruti', 'BMW']\n"
     ]
    }
   ],
   "source": [
    "lis1 = [\"Automobile\", \"honda\", \"Benz\", \"maruti\", \"BMW\"]\n",
    "\n",
    "lis2 = []\n",
    "\n",
    "for i in lis1:\n",
    "    lis2.append(i)\n",
    "    \n",
    "print(lis2)"
   ]
  },
  {
   "cell_type": "code",
   "execution_count": 42,
   "id": "6380cf76",
   "metadata": {},
   "outputs": [
    {
     "name": "stdout",
     "output_type": "stream",
     "text": [
      "[10, 5, 4, 6, 3]\n"
     ]
    }
   ],
   "source": [
    "lis1 = [\"Automobile\", \"honda\", \"Benz\", \"maruti\", \"BMW\"]\n",
    "\n",
    "lis2 = []\n",
    "\n",
    "for i in lis1:\n",
    "    lis2.append(len(i))\n",
    "    \n",
    "print(lis2)"
   ]
  },
  {
   "cell_type": "code",
   "execution_count": 43,
   "id": "e08deb46",
   "metadata": {},
   "outputs": [
    {
     "data": {
      "text/plain": [
       "[10, 5, 4, 6, 3]"
      ]
     },
     "execution_count": 43,
     "metadata": {},
     "output_type": "execute_result"
    }
   ],
   "source": [
    "lis1 = [\"Automobile\", \"honda\", \"Benz\", \"maruti\", \"BMW\"]\n",
    "\n",
    "lis2 = [len(i) for i in lis1]\n",
    "\n",
    "lis2"
   ]
  },
  {
   "cell_type": "code",
   "execution_count": 44,
   "id": "ca317ea9",
   "metadata": {},
   "outputs": [
    {
     "data": {
      "text/plain": [
       "{'Automobile': 10, 'honda': 5, 'Benz': 4, 'maruti': 6, 'BMW': 3}"
      ]
     },
     "execution_count": 44,
     "metadata": {},
     "output_type": "execute_result"
    }
   ],
   "source": [
    "lis1 = [\"Automobile\", \"honda\", \"Benz\", \"maruti\", \"BMW\"]\n",
    "\n",
    "d = {i : len(i) for i in lis1}\n",
    "\n",
    "d"
   ]
  },
  {
   "cell_type": "code",
   "execution_count": 45,
   "id": "7d9aabcf",
   "metadata": {},
   "outputs": [
    {
     "data": {
      "text/plain": [
       "{'Automobile': 10, 'honda': 5, 'Benz': 4, 'maruti': 6, 'BMW': 3}"
      ]
     },
     "execution_count": 45,
     "metadata": {},
     "output_type": "execute_result"
    }
   ],
   "source": [
    "lis1 = [\"Automobile\", \"honda\", \"Benz\", \"maruti\", \"BMW\"]\n",
    "\n",
    "d = {}\n",
    "\n",
    "for i in lis1:\n",
    "    d[i] = len(i)\n",
    "d"
   ]
  }
 ],
 "metadata": {
  "kernelspec": {
   "display_name": "Python 3",
   "language": "python",
   "name": "python3"
  },
  "language_info": {
   "codemirror_mode": {
    "name": "ipython",
    "version": 3
   },
   "file_extension": ".py",
   "mimetype": "text/x-python",
   "name": "python",
   "nbconvert_exporter": "python",
   "pygments_lexer": "ipython3",
   "version": "3.12.6"
  }
 },
 "nbformat": 4,
 "nbformat_minor": 5
}
