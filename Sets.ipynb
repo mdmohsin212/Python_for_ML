{
 "cells": [
  {
   "cell_type": "code",
   "execution_count": 2,
   "id": "2eb23202",
   "metadata": {},
   "outputs": [],
   "source": [
    "# Set item always unique and also define in {}"
   ]
  },
  {
   "cell_type": "code",
   "execution_count": 3,
   "id": "b2f60533",
   "metadata": {},
   "outputs": [],
   "source": [
    "list1 = [1,2,3,4,5,6,5,7,2,2,2,3]"
   ]
  },
  {
   "cell_type": "code",
   "execution_count": 4,
   "id": "e4aa4fb1",
   "metadata": {},
   "outputs": [
    {
     "data": {
      "text/plain": [
       "list"
      ]
     },
     "execution_count": 4,
     "metadata": {},
     "output_type": "execute_result"
    }
   ],
   "source": [
    "type(list1)"
   ]
  },
  {
   "cell_type": "code",
   "execution_count": 5,
   "id": "4b28a678",
   "metadata": {},
   "outputs": [
    {
     "data": {
      "text/plain": [
       "12"
      ]
     },
     "execution_count": 5,
     "metadata": {},
     "output_type": "execute_result"
    }
   ],
   "source": [
    "len(list1)"
   ]
  },
  {
   "cell_type": "code",
   "execution_count": 6,
   "id": "0306a418",
   "metadata": {},
   "outputs": [
    {
     "data": {
      "text/plain": [
       "{1, 2, 3, 4, 5, 6, 7}"
      ]
     },
     "execution_count": 6,
     "metadata": {},
     "output_type": "execute_result"
    }
   ],
   "source": [
    "set_1 = set(list1)\n",
    "set_1"
   ]
  },
  {
   "cell_type": "code",
   "execution_count": 7,
   "id": "e7af737d",
   "metadata": {},
   "outputs": [
    {
     "data": {
      "text/plain": [
       "7"
      ]
     },
     "execution_count": 7,
     "metadata": {},
     "output_type": "execute_result"
    }
   ],
   "source": [
    "len(set_1)"
   ]
  },
  {
   "cell_type": "code",
   "execution_count": 8,
   "id": "b13e12e4",
   "metadata": {},
   "outputs": [
    {
     "data": {
      "text/plain": [
       "3"
      ]
     },
     "execution_count": 8,
     "metadata": {},
     "output_type": "execute_result"
    }
   ],
   "source": [
    "list2 = ['A', 'B', 'C','A', 'B', 'C','A', 'B', 'C','A', 'B', 'C']\n",
    "set2 = set(list2)\n",
    "len(set2)"
   ]
  },
  {
   "cell_type": "code",
   "execution_count": 9,
   "id": "bc9a3478",
   "metadata": {},
   "outputs": [
    {
     "data": {
      "text/plain": [
       "{1, 2, 3, 4, 5, 'siam'}"
      ]
     },
     "execution_count": 9,
     "metadata": {},
     "output_type": "execute_result"
    }
   ],
   "source": [
    "set2 = {1,2,3,4,5}\n",
    "set2.add('siam')\n",
    "set2"
   ]
  },
  {
   "cell_type": "code",
   "execution_count": 10,
   "id": "9b1c415e",
   "metadata": {},
   "outputs": [
    {
     "data": {
      "text/plain": [
       "6"
      ]
     },
     "execution_count": 10,
     "metadata": {},
     "output_type": "execute_result"
    }
   ],
   "source": [
    "len(set2)"
   ]
  },
  {
   "cell_type": "code",
   "execution_count": 11,
   "id": "d7efbd9d",
   "metadata": {},
   "outputs": [
    {
     "data": {
      "text/plain": [
       "{1, 2, 3, 4, 5}"
      ]
     },
     "execution_count": 11,
     "metadata": {},
     "output_type": "execute_result"
    }
   ],
   "source": [
    "set2.remove(\"siam\")\n",
    "set2"
   ]
  },
  {
   "cell_type": "markdown",
   "id": "7aec7e04",
   "metadata": {},
   "source": [
    "# Set Operation"
   ]
  },
  {
   "cell_type": "code",
   "execution_count": 12,
   "id": "c1642fe6",
   "metadata": {},
   "outputs": [],
   "source": [
    "A = {0,2,4,6,8}\n",
    "B = {1,2,3,4,5}"
   ]
  },
  {
   "cell_type": "code",
   "execution_count": 13,
   "id": "6e219952",
   "metadata": {},
   "outputs": [
    {
     "name": "stdout",
     "output_type": "stream",
     "text": [
      "{0, 1, 2, 3, 4, 5, 6, 8}\n",
      "{0, 1, 2, 3, 4, 5, 6, 8}\n",
      "8\n"
     ]
    }
   ],
   "source": [
    "# Union()\n",
    "\n",
    "print(A | B)\n",
    "print(A.union(B))\n",
    "print(len(A.union(B)))"
   ]
  },
  {
   "cell_type": "code",
   "execution_count": 14,
   "id": "9add0739",
   "metadata": {},
   "outputs": [
    {
     "name": "stdout",
     "output_type": "stream",
     "text": [
      "{2, 4}\n",
      "{2, 4}\n",
      "2\n"
     ]
    }
   ],
   "source": [
    "#Intersection\n",
    "\n",
    "print(A & B)\n",
    "print(A.intersection(B))\n",
    "print(len(A.intersection(B)))"
   ]
  },
  {
   "cell_type": "code",
   "execution_count": 15,
   "id": "7990d1a3",
   "metadata": {},
   "outputs": [
    {
     "name": "stdout",
     "output_type": "stream",
     "text": [
      "{0, 8, 6}\n",
      "{0, 8, 6}\n"
     ]
    }
   ],
   "source": [
    "# difference\n",
    "\n",
    "print(A-B)\n",
    "print(A.difference(B))"
   ]
  },
  {
   "cell_type": "code",
   "execution_count": null,
   "id": "a2e7770d",
   "metadata": {},
   "outputs": [
    {
     "name": "stdout",
     "output_type": "stream",
     "text": [
      "{0, 1, 3, 5, 6, 8}\n"
     ]
    }
   ],
   "source": [
    "# Symmetric difference\n",
    "\n",
    "print(A ^ B)"
   ]
  }
 ],
 "metadata": {
  "kernelspec": {
   "display_name": "Python 3",
   "language": "python",
   "name": "python3"
  },
  "language_info": {
   "codemirror_mode": {
    "name": "ipython",
    "version": 3
   },
   "file_extension": ".py",
   "mimetype": "text/x-python",
   "name": "python",
   "nbconvert_exporter": "python",
   "pygments_lexer": "ipython3",
   "version": "3.12.6"
  }
 },
 "nbformat": 4,
 "nbformat_minor": 5
}
