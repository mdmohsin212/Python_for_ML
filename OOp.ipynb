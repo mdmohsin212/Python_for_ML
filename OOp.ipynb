{
 "cells": [
  {
   "cell_type": "markdown",
   "id": "5c3ad3db",
   "metadata": {},
   "source": [
    "### Creating class and object"
   ]
  },
  {
   "cell_type": "code",
   "execution_count": 1,
   "id": "882a3a3b",
   "metadata": {},
   "outputs": [],
   "source": [
    "class Rectangle:\n",
    "    def __init__(self):\n",
    "        self.length = 10\n",
    "        self.breadth = 5"
   ]
  },
  {
   "cell_type": "code",
   "execution_count": 2,
   "id": "81903850",
   "metadata": {},
   "outputs": [
    {
     "data": {
      "text/plain": [
       "10"
      ]
     },
     "execution_count": 2,
     "metadata": {},
     "output_type": "execute_result"
    }
   ],
   "source": [
    "rect = Rectangle()\n",
    "rect.length"
   ]
  },
  {
   "cell_type": "code",
   "execution_count": 3,
   "id": "6509ec1e",
   "metadata": {},
   "outputs": [
    {
     "name": "stdout",
     "output_type": "stream",
     "text": [
      "length =  10 \n",
      "Breadth =  5\n"
     ]
    }
   ],
   "source": [
    "print(\"length = \", rect.length, \"\\nBreadth = \", rect.breadth)"
   ]
  },
  {
   "cell_type": "markdown",
   "id": "3c659f2b",
   "metadata": {},
   "source": [
    "### Parametrised Constructor"
   ]
  },
  {
   "cell_type": "code",
   "execution_count": 4,
   "id": "8fa3df65",
   "metadata": {},
   "outputs": [],
   "source": [
    "class Rectangle:\n",
    "    def __init__(self, length, breadth):\n",
    "        self.length = length\n",
    "        self.breadth = breadth"
   ]
  },
  {
   "cell_type": "code",
   "execution_count": 6,
   "id": "856438c7",
   "metadata": {},
   "outputs": [
    {
     "data": {
      "text/plain": [
       "22"
      ]
     },
     "execution_count": 6,
     "metadata": {},
     "output_type": "execute_result"
    }
   ],
   "source": [
    "rect = Rectangle(22,10)\n",
    "rect.length"
   ]
  },
  {
   "cell_type": "markdown",
   "id": "5c8aaedc",
   "metadata": {},
   "source": [
    "### Class variable & instance variables"
   ]
  },
  {
   "cell_type": "code",
   "execution_count": 7,
   "id": "52805799",
   "metadata": {},
   "outputs": [],
   "source": [
    "class Circle:\n",
    "    pi = 3.14 # pi ----> Class Variable\n",
    "    def __init__(self, r): # r ----> Instance Variable\n",
    "        self.redius = r"
   ]
  },
  {
   "cell_type": "code",
   "execution_count": 8,
   "id": "be3d0b88",
   "metadata": {},
   "outputs": [
    {
     "data": {
      "text/plain": [
       "5"
      ]
     },
     "execution_count": 8,
     "metadata": {},
     "output_type": "execute_result"
    }
   ],
   "source": [
    "cir = Circle(5)\n",
    "cir.redius"
   ]
  },
  {
   "cell_type": "code",
   "execution_count": 9,
   "id": "0b4e8869",
   "metadata": {},
   "outputs": [
    {
     "data": {
      "text/plain": [
       "3.14"
      ]
     },
     "execution_count": 9,
     "metadata": {},
     "output_type": "execute_result"
    }
   ],
   "source": [
    "cir.pi"
   ]
  },
  {
   "cell_type": "markdown",
   "id": "fa13b42f",
   "metadata": {},
   "source": [
    "### How to chance class variable"
   ]
  },
  {
   "cell_type": "code",
   "execution_count": 10,
   "id": "aa1eccf3",
   "metadata": {},
   "outputs": [],
   "source": [
    "cir.pi = 3.1436"
   ]
  },
  {
   "cell_type": "code",
   "execution_count": 11,
   "id": "b09ebd0d",
   "metadata": {},
   "outputs": [
    {
     "data": {
      "text/plain": [
       "3.1436"
      ]
     },
     "execution_count": 11,
     "metadata": {},
     "output_type": "execute_result"
    }
   ],
   "source": [
    "cir.pi"
   ]
  },
  {
   "cell_type": "markdown",
   "id": "825fa0d8",
   "metadata": {},
   "source": [
    "### Adding a method to class"
   ]
  },
  {
   "cell_type": "code",
   "execution_count": 12,
   "id": "390590ee",
   "metadata": {},
   "outputs": [],
   "source": [
    "class Rectangle:\n",
    "    def __init__(self, length, breadth):\n",
    "        self.length = length\n",
    "        self.breadth = breadth\n",
    "    \n",
    "    def calculate_area(self):\n",
    "        return self.length * self.breadth"
   ]
  },
  {
   "cell_type": "code",
   "execution_count": 13,
   "id": "27dcc2d5",
   "metadata": {},
   "outputs": [],
   "source": [
    "rect = Rectangle(10, 5)"
   ]
  },
  {
   "cell_type": "code",
   "execution_count": 14,
   "id": "304d1ec7",
   "metadata": {},
   "outputs": [
    {
     "data": {
      "text/plain": [
       "10"
      ]
     },
     "execution_count": 14,
     "metadata": {},
     "output_type": "execute_result"
    }
   ],
   "source": [
    "rect.length"
   ]
  },
  {
   "cell_type": "code",
   "execution_count": 15,
   "id": "5b60c691",
   "metadata": {},
   "outputs": [
    {
     "data": {
      "text/plain": [
       "50"
      ]
     },
     "execution_count": 15,
     "metadata": {},
     "output_type": "execute_result"
    }
   ],
   "source": [
    "rect.calculate_area()"
   ]
  },
  {
   "cell_type": "markdown",
   "id": "07363dbb",
   "metadata": {},
   "source": [
    "### Inheritance and overriding"
   ]
  },
  {
   "cell_type": "code",
   "execution_count": 16,
   "id": "d1815e83",
   "metadata": {},
   "outputs": [],
   "source": [
    "class Employee:\n",
    "    def function(self):\n",
    "        print(\"Hello world\")\n",
    "        \n",
    "class Department(Employee):\n",
    "    pass"
   ]
  },
  {
   "cell_type": "code",
   "execution_count": 18,
   "id": "13f0a2aa",
   "metadata": {},
   "outputs": [
    {
     "name": "stdout",
     "output_type": "stream",
     "text": [
      "Hello world\n"
     ]
    }
   ],
   "source": [
    "emp = Employee()\n",
    "emp.function()"
   ]
  },
  {
   "cell_type": "code",
   "execution_count": 19,
   "id": "48fb0764",
   "metadata": {},
   "outputs": [
    {
     "name": "stdout",
     "output_type": "stream",
     "text": [
      "Hello world\n"
     ]
    }
   ],
   "source": [
    "dep = Department()\n",
    "dep.function()"
   ]
  },
  {
   "cell_type": "code",
   "execution_count": 20,
   "id": "e3bd2559",
   "metadata": {},
   "outputs": [],
   "source": [
    "class shape:\n",
    "    def set_col(self, color):\n",
    "        self.color = color\n",
    "    \n",
    "    def calculate_area(self):\n",
    "        pass\n",
    "    \n",
    "    def color_the_shape(self):\n",
    "        price = {\"red\" : 10, \"blue\" : 20}\n",
    "        return self.calculate_area() * price[self.color]"
   ]
  }
 ],
 "metadata": {
  "kernelspec": {
   "display_name": "Python 3",
   "language": "python",
   "name": "python3"
  },
  "language_info": {
   "codemirror_mode": {
    "name": "ipython",
    "version": 3
   },
   "file_extension": ".py",
   "mimetype": "text/x-python",
   "name": "python",
   "nbconvert_exporter": "python",
   "pygments_lexer": "ipython3",
   "version": "3.12.6"
  }
 },
 "nbformat": 4,
 "nbformat_minor": 5
}
