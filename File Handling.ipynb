{
 "cells": [
  {
   "cell_type": "markdown",
   "id": "6a1216cb",
   "metadata": {},
   "source": [
    "### Reading a file"
   ]
  },
  {
   "cell_type": "code",
   "execution_count": 1,
   "id": "93afa6a1",
   "metadata": {},
   "outputs": [
    {
     "name": "stdout",
     "output_type": "stream",
     "text": [
      "This is write operation\n",
      "\n",
      "\n",
      "\n",
      "Hello\n"
     ]
    }
   ],
   "source": [
    "file = open('file/data.txt', 'r')\n",
    "\n",
    "for line in file:\n",
    "    print(line)"
   ]
  },
  {
   "cell_type": "code",
   "execution_count": 2,
   "id": "4f1ac668",
   "metadata": {},
   "outputs": [
    {
     "name": "stdout",
     "output_type": "stream",
     "text": [
      "This is write operation\n",
      "\n",
      "Hello\n"
     ]
    }
   ],
   "source": [
    "file = open('file/data.txt', 'r')\n",
    "print(file.read())"
   ]
  },
  {
   "cell_type": "code",
   "execution_count": 3,
   "id": "6b710ea2",
   "metadata": {},
   "outputs": [
    {
     "name": "stdout",
     "output_type": "stream",
     "text": [
      "This is wr\n"
     ]
    }
   ],
   "source": [
    "file = open('file/data.txt', 'r')\n",
    "print(file.read(10))"
   ]
  },
  {
   "cell_type": "code",
   "execution_count": 4,
   "id": "f2dd9ae3",
   "metadata": {},
   "outputs": [
    {
     "name": "stdout",
     "output_type": "stream",
     "text": [
      "This is write operation\n",
      "\n"
     ]
    }
   ],
   "source": [
    "file = open('file/data.txt', 'r')\n",
    "print(file.readline())"
   ]
  },
  {
   "cell_type": "code",
   "execution_count": 5,
   "id": "e621eec1",
   "metadata": {},
   "outputs": [
    {
     "name": "stdout",
     "output_type": "stream",
     "text": [
      "Th\n"
     ]
    }
   ],
   "source": [
    "# Only first line\n",
    "file = open('file/data.txt', 'r')\n",
    "print(file.readline(2))"
   ]
  },
  {
   "cell_type": "markdown",
   "id": "0b920056",
   "metadata": {},
   "source": [
    "### Writing File"
   ]
  },
  {
   "cell_type": "code",
   "execution_count": 6,
   "id": "f0ed00bf",
   "metadata": {},
   "outputs": [],
   "source": [
    "file = open('file/data.txt', 'w')\n",
    "file.write(\"This is write operation\")\n",
    "file.write(\"Hello\")\n",
    "file.close()"
   ]
  },
  {
   "cell_type": "code",
   "execution_count": 7,
   "id": "739fc5c0",
   "metadata": {},
   "outputs": [
    {
     "data": {
      "text/plain": [
       "'This is write operationHello'"
      ]
     },
     "execution_count": 7,
     "metadata": {},
     "output_type": "execute_result"
    }
   ],
   "source": [
    "file = open('file/data.txt', 'r')\n",
    "file.read()"
   ]
  },
  {
   "cell_type": "markdown",
   "id": "255c689b",
   "metadata": {},
   "source": [
    "### Append Operation"
   ]
  },
  {
   "cell_type": "code",
   "execution_count": 8,
   "id": "cdeecc18",
   "metadata": {},
   "outputs": [],
   "source": [
    "with open('file/data.txt', 'a') as file:\n",
    "    file.write(\"This is append operation\")"
   ]
  },
  {
   "cell_type": "code",
   "execution_count": 9,
   "id": "b0c5b134",
   "metadata": {},
   "outputs": [
    {
     "name": "stdout",
     "output_type": "stream",
     "text": [
      "This is write operationHelloThis is append operation\n"
     ]
    }
   ],
   "source": [
    "file = open('file/data.txt', 'r')\n",
    "print(file.read())"
   ]
  },
  {
   "cell_type": "markdown",
   "id": "f4cd9d5d",
   "metadata": {},
   "source": [
    "### \\n operation"
   ]
  },
  {
   "cell_type": "code",
   "execution_count": 10,
   "id": "addedbd6",
   "metadata": {},
   "outputs": [],
   "source": [
    "file = open('file/data.txt', 'w')\n",
    "file.write(\"This is write operation\")\n",
    "file.write(\"\\n\")\n",
    "file.write(\"Hello\")\n",
    "file.close()"
   ]
  },
  {
   "cell_type": "code",
   "execution_count": 11,
   "id": "a57bf720",
   "metadata": {},
   "outputs": [
    {
     "name": "stdout",
     "output_type": "stream",
     "text": [
      "This is write operation\n",
      "Hello\n"
     ]
    }
   ],
   "source": [
    "file = open('file/data.txt', 'r')\n",
    "print(file.read())"
   ]
  }
 ],
 "metadata": {
  "kernelspec": {
   "display_name": "Python 3",
   "language": "python",
   "name": "python3"
  },
  "language_info": {
   "codemirror_mode": {
    "name": "ipython",
    "version": 3
   },
   "file_extension": ".py",
   "mimetype": "text/x-python",
   "name": "python",
   "nbconvert_exporter": "python",
   "pygments_lexer": "ipython3",
   "version": "3.12.6"
  }
 },
 "nbformat": 4,
 "nbformat_minor": 5
}
