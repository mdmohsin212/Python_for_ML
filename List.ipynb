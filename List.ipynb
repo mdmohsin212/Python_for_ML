{
 "cells": [
  {
   "cell_type": "code",
   "execution_count": 2,
   "id": "8cdab67d",
   "metadata": {},
   "outputs": [
    {
     "data": {
      "text/plain": [
       "'Dhaka'"
      ]
     },
     "execution_count": 2,
     "metadata": {},
     "output_type": "execute_result"
    }
   ],
   "source": [
    "list1 = ['Dhaka', 5, 'Siam']\n",
    "list1[0]"
   ]
  },
  {
   "cell_type": "code",
   "execution_count": 3,
   "id": "11aae0ce",
   "metadata": {},
   "outputs": [
    {
     "data": {
      "text/plain": [
       "list"
      ]
     },
     "execution_count": 3,
     "metadata": {},
     "output_type": "execute_result"
    }
   ],
   "source": [
    "type(list1)"
   ]
  },
  {
   "cell_type": "code",
   "execution_count": 4,
   "id": "22d54fbf",
   "metadata": {},
   "outputs": [
    {
     "data": {
      "text/plain": [
       "tuple"
      ]
     },
     "execution_count": 4,
     "metadata": {},
     "output_type": "execute_result"
    }
   ],
   "source": [
    "cust_info = ('siam', 12, 67, '1Gb')\n",
    "type(cust_info)"
   ]
  },
  {
   "cell_type": "code",
   "execution_count": 5,
   "id": "deb07bf9",
   "metadata": {},
   "outputs": [
    {
     "name": "stdout",
     "output_type": "stream",
     "text": [
      "['Dhaka', 5, 'Siam']\n"
     ]
    }
   ],
   "source": [
    "print(list1)"
   ]
  },
  {
   "cell_type": "code",
   "execution_count": 6,
   "id": "ba8f927a",
   "metadata": {},
   "outputs": [
    {
     "data": {
      "text/plain": [
       "3"
      ]
     },
     "execution_count": 6,
     "metadata": {},
     "output_type": "execute_result"
    }
   ],
   "source": [
    "len(list1)"
   ]
  },
  {
   "cell_type": "markdown",
   "id": "c598d62c",
   "metadata": {},
   "source": [
    "# Nasted List"
   ]
  },
  {
   "cell_type": "code",
   "execution_count": 7,
   "id": "ae09ff37",
   "metadata": {},
   "outputs": [
    {
     "data": {
      "text/plain": [
       "3"
      ]
     },
     "execution_count": 7,
     "metadata": {},
     "output_type": "execute_result"
    }
   ],
   "source": [
    "list2 = ['siam', 1, [2,3,4]]\n",
    "len(list2)"
   ]
  },
  {
   "cell_type": "code",
   "execution_count": 8,
   "id": "0c7bc8d5",
   "metadata": {},
   "outputs": [
    {
     "data": {
      "text/plain": [
       "[2, 3, 4]"
      ]
     },
     "execution_count": 8,
     "metadata": {},
     "output_type": "execute_result"
    }
   ],
   "source": [
    "list2[2]"
   ]
  },
  {
   "cell_type": "code",
   "execution_count": 9,
   "id": "c0624e12",
   "metadata": {},
   "outputs": [
    {
     "data": {
      "text/plain": [
       "3"
      ]
     },
     "execution_count": 9,
     "metadata": {},
     "output_type": "execute_result"
    }
   ],
   "source": [
    "list2[2][1]"
   ]
  },
  {
   "cell_type": "code",
   "execution_count": 10,
   "id": "5bd872cc",
   "metadata": {},
   "outputs": [
    {
     "data": {
      "text/plain": [
       "2"
      ]
     },
     "execution_count": 10,
     "metadata": {},
     "output_type": "execute_result"
    }
   ],
   "source": [
    "list2[-1][0]"
   ]
  },
  {
   "cell_type": "code",
   "execution_count": 11,
   "id": "ed89b751",
   "metadata": {},
   "outputs": [
    {
     "data": {
      "text/plain": [
       "[2, 3, 4]"
      ]
     },
     "execution_count": 11,
     "metadata": {},
     "output_type": "execute_result"
    }
   ],
   "source": [
    "# Slicing\n",
    "list2[-1]"
   ]
  },
  {
   "cell_type": "markdown",
   "id": "97e6c04b",
   "metadata": {},
   "source": [
    "# List Concat"
   ]
  },
  {
   "cell_type": "code",
   "execution_count": 12,
   "id": "c71d4bc8",
   "metadata": {},
   "outputs": [],
   "source": [
    "list1 = [1,2,3,4]\n",
    "list2 = [5,6,7,8]\n",
    "\n",
    "new_list = list1 + list2"
   ]
  },
  {
   "cell_type": "code",
   "execution_count": 13,
   "id": "e17c295b",
   "metadata": {},
   "outputs": [
    {
     "data": {
      "text/plain": [
       "8"
      ]
     },
     "execution_count": 13,
     "metadata": {},
     "output_type": "execute_result"
    }
   ],
   "source": [
    "len(new_list)"
   ]
  },
  {
   "cell_type": "code",
   "execution_count": 14,
   "id": "42276128",
   "metadata": {},
   "outputs": [
    {
     "data": {
      "text/plain": [
       "[1, 2, 3, 4, 5, 6, 7, 8]"
      ]
     },
     "execution_count": 14,
     "metadata": {},
     "output_type": "execute_result"
    }
   ],
   "source": [
    "new_list"
   ]
  },
  {
   "cell_type": "code",
   "execution_count": 15,
   "id": "c11b9441",
   "metadata": {},
   "outputs": [
    {
     "data": {
      "text/plain": [
       "[2, 4, 5, 2]"
      ]
     },
     "execution_count": 15,
     "metadata": {},
     "output_type": "execute_result"
    }
   ],
   "source": [
    "# Add element to and existing List\n",
    "\n",
    "list3 = [2,4]\n",
    "new_list = list3 + [5,2]\n",
    "new_list"
   ]
  },
  {
   "cell_type": "markdown",
   "id": "a0b755db",
   "metadata": {},
   "source": [
    "# Membership in List"
   ]
  },
  {
   "cell_type": "code",
   "execution_count": 16,
   "id": "37559e7c",
   "metadata": {},
   "outputs": [
    {
     "name": "stdout",
     "output_type": "stream",
     "text": [
      "True\n",
      "False\n"
     ]
    }
   ],
   "source": [
    "list3 = [1,2,3,4]\n",
    "print(1 in list3)\n",
    "print(9 in list3)"
   ]
  },
  {
   "cell_type": "markdown",
   "id": "fd6f70e4",
   "metadata": {},
   "source": [
    "# Mutability"
   ]
  },
  {
   "cell_type": "code",
   "execution_count": 17,
   "id": "29f1c691",
   "metadata": {},
   "outputs": [],
   "source": [
    "list1 = ['Math', 'Physics', 'Chemistry', 'Biology']"
   ]
  },
  {
   "cell_type": "code",
   "execution_count": 18,
   "id": "f905ecf5",
   "metadata": {},
   "outputs": [
    {
     "data": {
      "text/plain": [
       "'Chemistry'"
      ]
     },
     "execution_count": 18,
     "metadata": {},
     "output_type": "execute_result"
    }
   ],
   "source": [
    "list1[2]"
   ]
  },
  {
   "cell_type": "code",
   "execution_count": 19,
   "id": "49ccb1a9",
   "metadata": {},
   "outputs": [],
   "source": [
    "list1[2] = 'English'"
   ]
  },
  {
   "cell_type": "code",
   "execution_count": 20,
   "id": "a7877b22",
   "metadata": {},
   "outputs": [
    {
     "data": {
      "text/plain": [
       "['Math', 'Physics', 'English', 'Biology']"
      ]
     },
     "execution_count": 20,
     "metadata": {},
     "output_type": "execute_result"
    }
   ],
   "source": [
    "list1"
   ]
  },
  {
   "cell_type": "markdown",
   "id": "c735f71d",
   "metadata": {},
   "source": [
    "# extend() function"
   ]
  },
  {
   "cell_type": "code",
   "execution_count": 21,
   "id": "700a8c3c",
   "metadata": {},
   "outputs": [
    {
     "data": {
      "text/plain": [
       "[1, 2, 3, 4, 5, 6]"
      ]
     },
     "execution_count": 21,
     "metadata": {},
     "output_type": "execute_result"
    }
   ],
   "source": [
    "list1 = [1,2,3,4]\n",
    "list1.extend([5,6])\n",
    "list1"
   ]
  },
  {
   "cell_type": "code",
   "execution_count": 22,
   "id": "d1487e01",
   "metadata": {},
   "outputs": [
    {
     "data": {
      "text/plain": [
       "[1, 2, 3, 4, [5, 6]]"
      ]
     },
     "execution_count": 22,
     "metadata": {},
     "output_type": "execute_result"
    }
   ],
   "source": [
    "#append function\n",
    "list1 = [1,2,3,4]\n",
    "list1.append([5,6])\n",
    "list1"
   ]
  },
  {
   "cell_type": "code",
   "execution_count": 23,
   "id": "457a110c",
   "metadata": {},
   "outputs": [
    {
     "data": {
      "text/plain": [
       "[1, 2, 4]"
      ]
     },
     "execution_count": 23,
     "metadata": {},
     "output_type": "execute_result"
    }
   ],
   "source": [
    "# del command\n",
    "\n",
    "list1 = [1,2,3,4]\n",
    "del list1[2]\n",
    "list1"
   ]
  },
  {
   "cell_type": "code",
   "execution_count": 24,
   "id": "5619f5a5",
   "metadata": {},
   "outputs": [
    {
     "data": {
      "text/plain": [
       "[1, 2, 4]"
      ]
     },
     "execution_count": 24,
     "metadata": {},
     "output_type": "execute_result"
    }
   ],
   "source": [
    "# pop() function\n",
    "\n",
    "list1 = [1,2,3,4]\n",
    "list1.pop(2)\n",
    "list1"
   ]
  },
  {
   "cell_type": "code",
   "execution_count": 25,
   "id": "1b53e135",
   "metadata": {},
   "outputs": [
    {
     "data": {
      "text/plain": [
       "[1, 2, 44]"
      ]
     },
     "execution_count": 25,
     "metadata": {},
     "output_type": "execute_result"
    }
   ],
   "source": [
    "list1 = [1,2,35,44]\n",
    "\n",
    "list1.remove(35)\n",
    "list1"
   ]
  },
  {
   "cell_type": "markdown",
   "id": "28062c4a",
   "metadata": {},
   "source": [
    "# Sort"
   ]
  },
  {
   "cell_type": "code",
   "execution_count": 26,
   "id": "ec400bcd",
   "metadata": {},
   "outputs": [
    {
     "data": {
      "text/plain": [
       "[1, 3, 9]"
      ]
     },
     "execution_count": 26,
     "metadata": {},
     "output_type": "execute_result"
    }
   ],
   "source": [
    "A = [3, 9, 1]\n",
    "A.sort()\n",
    "A"
   ]
  },
  {
   "cell_type": "code",
   "execution_count": 27,
   "id": "53ab1c12",
   "metadata": {},
   "outputs": [
    {
     "data": {
      "text/plain": [
       "[9, 3, 1]"
      ]
     },
     "execution_count": 27,
     "metadata": {},
     "output_type": "execute_result"
    }
   ],
   "source": [
    "A.sort(reverse=True)\n",
    "A"
   ]
  },
  {
   "cell_type": "markdown",
   "id": "11c54d3b",
   "metadata": {},
   "source": [
    "# Difference between sort and sorted"
   ]
  },
  {
   "cell_type": "code",
   "execution_count": 28,
   "id": "96b1f2d0",
   "metadata": {},
   "outputs": [
    {
     "name": "stdout",
     "output_type": "stream",
     "text": [
      "['Mango', 'Oranges', 'Strawberry']\n",
      "None\n"
     ]
    }
   ],
   "source": [
    "A = [\"Oranges\", \"Strawberry\", \"Mango\"]\n",
    "B = A.sort()\n",
    "print(A)\n",
    "print(B)"
   ]
  },
  {
   "cell_type": "code",
   "execution_count": 29,
   "id": "eed960fc",
   "metadata": {},
   "outputs": [
    {
     "data": {
      "text/plain": [
       "['Mango', 'Oranges', 'Strawberry']"
      ]
     },
     "execution_count": 29,
     "metadata": {},
     "output_type": "execute_result"
    }
   ],
   "source": [
    "A = [\"Oranges\", \"Strawberry\", \"Mango\"]\n",
    "A.sort()\n",
    "A"
   ]
  },
  {
   "cell_type": "code",
   "execution_count": 30,
   "id": "c68f77f1",
   "metadata": {},
   "outputs": [
    {
     "data": {
      "text/plain": [
       "['Mango', 'Oranges', 'Strawberry']"
      ]
     },
     "execution_count": 30,
     "metadata": {},
     "output_type": "execute_result"
    }
   ],
   "source": [
    "A = [\"Oranges\", \"Strawberry\", \"Mango\"]\n",
    "B = sorted(A)\n",
    "B"
   ]
  },
  {
   "cell_type": "markdown",
   "id": "0527409c",
   "metadata": {},
   "source": [
    "# Shallow Copy"
   ]
  },
  {
   "cell_type": "code",
   "execution_count": 31,
   "id": "12f948af",
   "metadata": {},
   "outputs": [
    {
     "name": "stdout",
     "output_type": "stream",
     "text": [
      "['Oranges', 'Strawberry', 'Mango']\n",
      "['Oranges', 'Strawberry', 'Mango']\n"
     ]
    }
   ],
   "source": [
    "A = [\"Oranges\", \"Strawberry\", \"Mango\"]\n",
    "B = A\n",
    "print(A)\n",
    "print(B)"
   ]
  },
  {
   "cell_type": "code",
   "execution_count": 32,
   "id": "cae62632",
   "metadata": {},
   "outputs": [
    {
     "data": {
      "text/plain": [
       "['Oranges', 'Strawberry']"
      ]
     },
     "execution_count": 32,
     "metadata": {},
     "output_type": "execute_result"
    }
   ],
   "source": [
    "A.pop()\n",
    "A"
   ]
  },
  {
   "cell_type": "code",
   "execution_count": 33,
   "id": "d9056caa",
   "metadata": {},
   "outputs": [
    {
     "data": {
      "text/plain": [
       "['Oranges', 'Strawberry']"
      ]
     },
     "execution_count": 33,
     "metadata": {},
     "output_type": "execute_result"
    }
   ],
   "source": [
    "B"
   ]
  },
  {
   "cell_type": "code",
   "execution_count": 34,
   "id": "b568d09e",
   "metadata": {},
   "outputs": [],
   "source": [
    "A = [\"Oranges\", \"Strawberry\", \"Mango\"]\n",
    "B = A[0:3]"
   ]
  },
  {
   "cell_type": "code",
   "execution_count": 35,
   "id": "61b9c4d0",
   "metadata": {},
   "outputs": [
    {
     "data": {
      "text/plain": [
       "'Mango'"
      ]
     },
     "execution_count": 35,
     "metadata": {},
     "output_type": "execute_result"
    }
   ],
   "source": [
    "A.pop()"
   ]
  },
  {
   "cell_type": "code",
   "execution_count": 36,
   "id": "f5bf7d96",
   "metadata": {},
   "outputs": [
    {
     "data": {
      "text/plain": [
       "['Oranges', 'Strawberry', 'Mango']"
      ]
     },
     "execution_count": 36,
     "metadata": {},
     "output_type": "execute_result"
    }
   ],
   "source": [
    "B"
   ]
  },
  {
   "cell_type": "code",
   "execution_count": 37,
   "id": "f0f09069",
   "metadata": {},
   "outputs": [],
   "source": [
    "name = \"siam_md_007\""
   ]
  },
  {
   "cell_type": "code",
   "execution_count": 38,
   "id": "fa6188c8",
   "metadata": {},
   "outputs": [
    {
     "data": {
      "text/plain": [
       "'siam'"
      ]
     },
     "execution_count": 38,
     "metadata": {},
     "output_type": "execute_result"
    }
   ],
   "source": [
    "str1 = name[0:4]\n",
    "str1"
   ]
  },
  {
   "cell_type": "code",
   "execution_count": 39,
   "id": "109780ee",
   "metadata": {},
   "outputs": [
    {
     "data": {
      "text/plain": [
       "'md'"
      ]
     },
     "execution_count": 39,
     "metadata": {},
     "output_type": "execute_result"
    }
   ],
   "source": [
    "str2 = name[5:7]\n",
    "str2"
   ]
  },
  {
   "cell_type": "code",
   "execution_count": 40,
   "id": "d053ee65",
   "metadata": {},
   "outputs": [
    {
     "data": {
      "text/plain": [
       "'007'"
      ]
     },
     "execution_count": 40,
     "metadata": {},
     "output_type": "execute_result"
    }
   ],
   "source": [
    "str3 = name[8:11]\n",
    "str3"
   ]
  },
  {
   "cell_type": "code",
   "execution_count": 41,
   "id": "ad4a7a6b",
   "metadata": {},
   "outputs": [
    {
     "data": {
      "text/plain": [
       "['siam', 'md', '007']"
      ]
     },
     "execution_count": 41,
     "metadata": {},
     "output_type": "execute_result"
    }
   ],
   "source": [
    "list1 = name.split('_')\n",
    "list1"
   ]
  }
 ],
 "metadata": {
  "kernelspec": {
   "display_name": "Python 3",
   "language": "python",
   "name": "python3"
  },
  "language_info": {
   "codemirror_mode": {
    "name": "ipython",
    "version": 3
   },
   "file_extension": ".py",
   "mimetype": "text/x-python",
   "name": "python",
   "nbconvert_exporter": "python",
   "pygments_lexer": "ipython3",
   "version": "3.12.6"
  }
 },
 "nbformat": 4,
 "nbformat_minor": 5
}
